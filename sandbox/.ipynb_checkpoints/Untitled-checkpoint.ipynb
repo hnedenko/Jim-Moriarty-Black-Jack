{
 "cells": [
  {
   "cell_type": "code",
   "execution_count": 7,
   "metadata": {},
   "outputs": [],
   "source": [
    "#!pip install opencv-python\n",
    "#!pip install pymouse"
   ]
  },
  {
   "cell_type": "code",
   "execution_count": 8,
   "metadata": {},
   "outputs": [],
   "source": [
    "import cv2\n",
    "import pyautogui\n",
    "import random\n",
    "import time\n",
    "import numpy as np"
   ]
  },
  {
   "cell_type": "code",
   "execution_count": 9,
   "metadata": {},
   "outputs": [],
   "source": [
    "method = cv2.TM_CCOEFF_NORMED\n",
    "\n",
    "template = cv2.imread('template.png', cv2.IMREAD_GRAYSCALE)\n",
    "w, h = template.shape[::-1]\n",
    "\n",
    "screenshot_name = 'screenshot.jpg'\n",
    "pyautogui.screenshot(screenshot_name)\n",
    "screenshot = cv2.imread(screenshot_name, cv2.IMREAD_GRAYSCALE)\n",
    "\n",
    "result = cv2.matchTemplate(template, screenshot, method)\n",
    "\n",
    "min_val, max_val, min_loc, max_loc = cv2.minMaxLoc(result)\n",
    "\n",
    "top_left = max_loc\n",
    "bottom_right = (top_left[0] + w, top_left[1] + h)\n",
    "\n",
    "cv2.rectangle(screenshot, top_left, bottom_right, 2, 2)\n",
    "cv2.imwrite('find.png', screenshot)\n",
    "\n",
    "pyautogui.moveTo(random.randint(top_left[0], bottom_right[0]),\n",
    "                 random.randint(top_left[1], bottom_right[1]),\n",
    "                 1,\n",
    "                 pyautogui.easeOutQuad)\n",
    "time.sleep(0.5)\n",
    "pyautogui.mouseDown(button='left')\n",
    "time.sleep(1)\n",
    "pyautogui.mouseUp(button='left')\n"
   ]
  },
  {
   "cell_type": "code",
   "execution_count": null,
   "metadata": {},
   "outputs": [],
   "source": []
  }
 ],
 "metadata": {
  "kernelspec": {
   "display_name": "Python 3",
   "language": "python",
   "name": "python3"
  },
  "language_info": {
   "codemirror_mode": {
    "name": "ipython",
    "version": 3
   },
   "file_extension": ".py",
   "mimetype": "text/x-python",
   "name": "python",
   "nbconvert_exporter": "python",
   "pygments_lexer": "ipython3",
   "version": "3.7.6"
  }
 },
 "nbformat": 4,
 "nbformat_minor": 4
}
